{
 "cells": [
  {
   "cell_type": "code",
   "execution_count": 9,
   "id": "4577634e",
   "metadata": {},
   "outputs": [],
   "source": [
    "s = \"this is My First Python programming class and i am learNING python string and its function\""
   ]
  },
  {
   "cell_type": "code",
   "execution_count": null,
   "id": "f35e21c7",
   "metadata": {},
   "outputs": [],
   "source": [
    "1 . Try to extract data from index one to index 300 with a jump of 3 "
   ]
  },
  {
   "cell_type": "code",
   "execution_count": 12,
   "id": "3ec1283b",
   "metadata": {},
   "outputs": [
    {
     "data": {
      "text/plain": [
       "'h   r tnrrmglsnimeNGyosi dtfco'"
      ]
     },
     "execution_count": 12,
     "metadata": {},
     "output_type": "execute_result"
    }
   ],
   "source": [
    "s[1:300:3]"
   ]
  },
  {
   "cell_type": "code",
   "execution_count": null,
   "id": "3a74904f",
   "metadata": {},
   "outputs": [],
   "source": [
    "2. Try to reverse a string without using reverse function "
   ]
  },
  {
   "cell_type": "code",
   "execution_count": 13,
   "id": "1d9d51b1",
   "metadata": {},
   "outputs": [
    {
     "data": {
      "text/plain": [
       "'noitcnuf sti dna gnirts nohtyp GNINrael ma i dna ssalc gnimmargorp nohtyP tsriF yM si siht'"
      ]
     },
     "execution_count": 13,
     "metadata": {},
     "output_type": "execute_result"
    }
   ],
   "source": [
    "s[::-1]"
   ]
  },
  {
   "cell_type": "code",
   "execution_count": null,
   "id": "5e4f9ccf",
   "metadata": {},
   "outputs": [],
   "source": [
    "3. Try to split a string after conversion of entire string in uppercase "
   ]
  },
  {
   "cell_type": "code",
   "execution_count": 34,
   "id": "9851973c",
   "metadata": {},
   "outputs": [],
   "source": [
    "s = \"this is My First Python programming class and i am learNING python string and its function\""
   ]
  },
  {
   "cell_type": "code",
   "execution_count": 35,
   "id": "58ac688f",
   "metadata": {},
   "outputs": [
    {
     "data": {
      "text/plain": [
       "'THIS IS MY FIRST PYTHON PROGRAMMING CLASS AND I AM LEARNING PYTHON STRING AND ITS FUNCTION'"
      ]
     },
     "execution_count": 35,
     "metadata": {},
     "output_type": "execute_result"
    }
   ],
   "source": [
    "s.upper()"
   ]
  },
  {
   "cell_type": "code",
   "execution_count": 36,
   "id": "601cb0a8",
   "metadata": {},
   "outputs": [],
   "source": [
    "s = s.upper()"
   ]
  },
  {
   "cell_type": "code",
   "execution_count": 37,
   "id": "a9f22b7f",
   "metadata": {},
   "outputs": [
    {
     "data": {
      "text/plain": [
       "'THIS IS MY FIRST PYTHON PROGRAMMING CLASS AND I AM LEARNING PYTHON STRING AND ITS FUNCTION'"
      ]
     },
     "execution_count": 37,
     "metadata": {},
     "output_type": "execute_result"
    }
   ],
   "source": [
    "s"
   ]
  },
  {
   "cell_type": "code",
   "execution_count": 38,
   "id": "7e61772a",
   "metadata": {},
   "outputs": [
    {
     "data": {
      "text/plain": [
       "['THIS',\n",
       " 'IS',\n",
       " 'MY',\n",
       " 'FIRST',\n",
       " 'PYTHON',\n",
       " 'PROGRAMMING',\n",
       " 'CLASS',\n",
       " 'AND',\n",
       " 'I',\n",
       " 'AM',\n",
       " 'LEARNING',\n",
       " 'PYTHON',\n",
       " 'STRING',\n",
       " 'AND',\n",
       " 'ITS',\n",
       " 'FUNCTION']"
      ]
     },
     "execution_count": 38,
     "metadata": {},
     "output_type": "execute_result"
    }
   ],
   "source": [
    "s.split(\" \")"
   ]
  },
  {
   "cell_type": "code",
   "execution_count": null,
   "id": "ab3e7de1",
   "metadata": {},
   "outputs": [],
   "source": [
    "4. try to convert the whole string into lower case "
   ]
  },
  {
   "cell_type": "code",
   "execution_count": 39,
   "id": "c5591d30",
   "metadata": {},
   "outputs": [
    {
     "data": {
      "text/plain": [
       "'THIS IS MY FIRST PYTHON PROGRAMMING CLASS AND I AM LEARNING PYTHON STRING AND ITS FUNCTION'"
      ]
     },
     "execution_count": 39,
     "metadata": {},
     "output_type": "execute_result"
    }
   ],
   "source": [
    "s"
   ]
  },
  {
   "cell_type": "code",
   "execution_count": 40,
   "id": "87510d1e",
   "metadata": {},
   "outputs": [
    {
     "data": {
      "text/plain": [
       "'this is my first python programming class and i am learning python string and its function'"
      ]
     },
     "execution_count": 40,
     "metadata": {},
     "output_type": "execute_result"
    }
   ],
   "source": [
    "s.lower()"
   ]
  },
  {
   "cell_type": "code",
   "execution_count": null,
   "id": "671bd47c",
   "metadata": {},
   "outputs": [],
   "source": [
    "5 . Try to capitalize the whole string "
   ]
  },
  {
   "cell_type": "code",
   "execution_count": 41,
   "id": "9dae4fad",
   "metadata": {},
   "outputs": [
    {
     "data": {
      "text/plain": [
       "'This is my first python programming class and i am learning python string and its function'"
      ]
     },
     "execution_count": 41,
     "metadata": {},
     "output_type": "execute_result"
    }
   ],
   "source": [
    "s.capitalize()"
   ]
  },
  {
   "cell_type": "code",
   "execution_count": null,
   "id": "881f44f2",
   "metadata": {},
   "outputs": [],
   "source": [
    "6 . Write a diference between isalnum() and isalpha()"
   ]
  },
  {
   "cell_type": "code",
   "execution_count": 46,
   "id": "8b3a0fb4",
   "metadata": {},
   "outputs": [],
   "source": [
    "s=\"hfhfh\""
   ]
  },
  {
   "cell_type": "code",
   "execution_count": 47,
   "id": "8d2e22a2",
   "metadata": {},
   "outputs": [
    {
     "data": {
      "text/plain": [
       "'hfhfh'"
      ]
     },
     "execution_count": 47,
     "metadata": {},
     "output_type": "execute_result"
    }
   ],
   "source": [
    "s"
   ]
  },
  {
   "cell_type": "code",
   "execution_count": 48,
   "id": "cf5387c5",
   "metadata": {},
   "outputs": [
    {
     "data": {
      "text/plain": [
       "True"
      ]
     },
     "execution_count": 48,
     "metadata": {},
     "output_type": "execute_result"
    }
   ],
   "source": [
    "s.isalnum()"
   ]
  },
  {
   "cell_type": "code",
   "execution_count": null,
   "id": "dd604a7e",
   "metadata": {},
   "outputs": [],
   "source": [
    "It will be true if the string is either alpha or numeric, else False. or condition."
   ]
  },
  {
   "cell_type": "code",
   "execution_count": 50,
   "id": "ebd3d189",
   "metadata": {},
   "outputs": [
    {
     "data": {
      "text/plain": [
       "True"
      ]
     },
     "execution_count": 50,
     "metadata": {},
     "output_type": "execute_result"
    }
   ],
   "source": [
    "s.isalpha()"
   ]
  },
  {
   "cell_type": "code",
   "execution_count": null,
   "id": "243a18c7",
   "metadata": {},
   "outputs": [],
   "source": [
    "It will be true if the string is alphabetical, else False"
   ]
  },
  {
   "cell_type": "code",
   "execution_count": null,
   "id": "af850b15",
   "metadata": {},
   "outputs": [],
   "source": [
    "7. Try to give an example of expand tab"
   ]
  },
  {
   "cell_type": "code",
   "execution_count": 51,
   "id": "d99bd250",
   "metadata": {},
   "outputs": [],
   "source": [
    "s=\"THIS\\tIS\\tMY\\tFIRST\\tPYTHON\\tPROGRAMMING\\tCLASS\""
   ]
  },
  {
   "cell_type": "code",
   "execution_count": 52,
   "id": "8f5fdc39",
   "metadata": {},
   "outputs": [
    {
     "data": {
      "text/plain": [
       "'THIS    IS      MY      FIRST   PYTHON  PROGRAMMING     CLASS'"
      ]
     },
     "execution_count": 52,
     "metadata": {},
     "output_type": "execute_result"
    }
   ],
   "source": [
    "s.expandtabs()"
   ]
  },
  {
   "cell_type": "code",
   "execution_count": null,
   "id": "15096421",
   "metadata": {},
   "outputs": [],
   "source": [
    "8. Give an example of strip , lstrip and rstrip "
   ]
  },
  {
   "cell_type": "code",
   "execution_count": 53,
   "id": "de9fe243",
   "metadata": {},
   "outputs": [],
   "source": [
    "s= \"   first python   \""
   ]
  },
  {
   "cell_type": "code",
   "execution_count": 55,
   "id": "3523fddd",
   "metadata": {},
   "outputs": [
    {
     "data": {
      "text/plain": [
       "'first python'"
      ]
     },
     "execution_count": 55,
     "metadata": {},
     "output_type": "execute_result"
    }
   ],
   "source": [
    "s.strip()"
   ]
  },
  {
   "cell_type": "code",
   "execution_count": 56,
   "id": "4f34447b",
   "metadata": {},
   "outputs": [
    {
     "data": {
      "text/plain": [
       "'first python   '"
      ]
     },
     "execution_count": 56,
     "metadata": {},
     "output_type": "execute_result"
    }
   ],
   "source": [
    "s.lstrip()"
   ]
  },
  {
   "cell_type": "code",
   "execution_count": 58,
   "id": "3e1da4f4",
   "metadata": {},
   "outputs": [
    {
     "data": {
      "text/plain": [
       "'   first python'"
      ]
     },
     "execution_count": 58,
     "metadata": {},
     "output_type": "execute_result"
    }
   ],
   "source": [
    "s.rstrip()"
   ]
  },
  {
   "cell_type": "code",
   "execution_count": null,
   "id": "5d003cc6",
   "metadata": {},
   "outputs": [],
   "source": [
    "9.  Replace a string charecter by another charector by taking your own example "
   ]
  },
  {
   "cell_type": "code",
   "execution_count": 72,
   "id": "fffd3cb7",
   "metadata": {},
   "outputs": [],
   "source": [
    "s= \"first python\""
   ]
  },
  {
   "cell_type": "code",
   "execution_count": 73,
   "id": "a8f43547",
   "metadata": {},
   "outputs": [
    {
     "data": {
      "text/plain": [
       "'next python'"
      ]
     },
     "execution_count": 73,
     "metadata": {},
     "output_type": "execute_result"
    }
   ],
   "source": [
    "s.replace(\"first\", \"next\")"
   ]
  },
  {
   "cell_type": "code",
   "execution_count": null,
   "id": "673ecee1",
   "metadata": {},
   "outputs": [],
   "source": [
    "10 . Try  to give a defination of string center function with and exmple "
   ]
  },
  {
   "cell_type": "code",
   "execution_count": 80,
   "id": "711704a8",
   "metadata": {},
   "outputs": [],
   "source": [
    "s= \"first python\""
   ]
  },
  {
   "cell_type": "code",
   "execution_count": 82,
   "id": "56586feb",
   "metadata": {},
   "outputs": [
    {
     "data": {
      "text/plain": [
       "'$$$$$$$$$$$$$$$$$$$first python$$$$$$$$$$$$$$$$$$$'"
      ]
     },
     "execution_count": 82,
     "metadata": {},
     "output_type": "execute_result"
    }
   ],
   "source": [
    "s.center(50, \"$\")"
   ]
  },
  {
   "cell_type": "code",
   "execution_count": null,
   "id": "480fd25e",
   "metadata": {},
   "outputs": [],
   "source": [
    "string center means, the string will be centered in the entire length."
   ]
  },
  {
   "cell_type": "code",
   "execution_count": null,
   "id": "a709d461",
   "metadata": {},
   "outputs": [],
   "source": [
    "11 . Write your own definition of compiler and interpretor without copy paste form internet in your own language"
   ]
  },
  {
   "cell_type": "code",
   "execution_count": null,
   "id": "a2f6f537",
   "metadata": {},
   "outputs": [],
   "source": []
  },
  {
   "cell_type": "code",
   "execution_count": null,
   "id": "25c1196c",
   "metadata": {},
   "outputs": [],
   "source": [
    "12 . Python is a interpreted of compiled language give a clear ans with your understanding "
   ]
  },
  {
   "cell_type": "code",
   "execution_count": null,
   "id": "e7373619",
   "metadata": {},
   "outputs": [],
   "source": [
    "Python is a interpreted language, because it has Compiled language in it."
   ]
  },
  {
   "cell_type": "code",
   "execution_count": null,
   "id": "0d47ce6b",
   "metadata": {},
   "outputs": [],
   "source": [
    "13 . Try to write a usecase of python with your understanding ."
   ]
  },
  {
   "cell_type": "code",
   "execution_count": null,
   "id": "13594ec8",
   "metadata": {},
   "outputs": [],
   "source": []
  }
 ],
 "metadata": {
  "kernelspec": {
   "display_name": "Python 3 (ipykernel)",
   "language": "python",
   "name": "python3"
  },
  "language_info": {
   "codemirror_mode": {
    "name": "ipython",
    "version": 3
   },
   "file_extension": ".py",
   "mimetype": "text/x-python",
   "name": "python",
   "nbconvert_exporter": "python",
   "pygments_lexer": "ipython3",
   "version": "3.9.12"
  }
 },
 "nbformat": 4,
 "nbformat_minor": 5
}
